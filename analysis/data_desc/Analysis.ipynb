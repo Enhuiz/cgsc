{
 "cells": [
  {
   "cell_type": "code",
   "execution_count": 4,
   "metadata": {},
   "outputs": [],
   "source": [
    "import pandas as pd\n",
    "\n",
    "df = pd.read_csv('data/total.csv')\n",
    "df['Polygon'] = df['Polygon'].map(eval)"
   ]
  },
  {
   "cell_type": "code",
   "execution_count": 30,
   "metadata": {},
   "outputs": [],
   "source": [
    "import numpy as np\n",
    "\n",
    "def area(poly):\n",
    "    return 0.5 * sum([np.cross(a, b) for a, b in zip(poly, poly[1:] + poly[:1])])\n",
    "    \n",
    "# print(area([[np.cos(a), np.sin(a)] for a in np.linspace(0, 2*np.pi, 10000)]))\n",
    "df['Area'] = df['Polygon'].map(area)"
   ]
  },
  {
   "cell_type": "code",
   "execution_count": 48,
   "metadata": {},
   "outputs": [],
   "source": [
    "import matplotlib\n",
    "def show_polygons(ax, polygons, facecolor='white', alpha=1):\n",
    "    patches = []\n",
    "    for vertices in polygons:\n",
    "        polygon = matplotlib.patches.Polygon(\n",
    "            vertices,\n",
    "            alpha=alpha, \n",
    "            ec='black',\n",
    "            fc=facecolor,\n",
    "            lw=1.5)\n",
    "        patches.append(polygon)\n",
    "\n",
    "    for patch in patches:\n",
    "        ax.add_patch(patch)\n",
    "\n",
    "    ax.autoscale()"
   ]
  },
  {
   "cell_type": "code",
   "execution_count": 52,
   "metadata": {},
   "outputs": [
    {
     "data": {
      "image/png": "[encoded data removed]",
      "text/plain": [
       "<matplotlib.figure.Figure at 0x7fccc889c208>"
      ]
     },
     "metadata": {},
     "output_type": "display_data"
    }
   ],
   "source": [
    "import matplotlib.pyplot as plt\n",
    "\n",
    "%matplotlib inline\n",
    "\n",
    "fig, ax = plt.subplots(figsize=(10, 10))\n",
    "df = df.sort_values('Area')\n",
    "\n",
    "min_area_polygon = df.iloc[0]['Polygon']\n",
    "mid_area_polygon = df.iloc[len(df)//2]['Polygon']\n",
    "max_area_polygon = df.iloc[-1]['Polygon']\n",
    "\n",
    "show_polygons(ax, [min_area_polygon, mid_area_polygon, max_area_polygon], 'white')"
   ]
  }
 ],
 "metadata": {
  "kernelspec": {
   "display_name": "Python 3",
   "language": "python",
   "name": "python3"
  },
  "language_info": {
   "codemirror_mode": {
    "name": "ipython",
    "version": 3
   },
   "file_extension": ".py",
   "mimetype": "text/x-python",
   "name": "python",
   "nbconvert_exporter": "python",
   "pygments_lexer": "ipython3",
   "version": "3.5.2"
  }
 },
 "nbformat": 4,
 "nbformat_minor": 2
}
